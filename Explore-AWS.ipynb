{
 "cells": [
  {
   "cell_type": "code",
   "execution_count": null,
   "id": "92b25289-ddf7-4bbf-a7fd-49f5d24bb438",
   "metadata": {},
   "outputs": [],
   "source": [
    "# Credits\n",
    "# The notebook only aims at reproducing results from this DS Project: https://data-flair.training/blogs/python-based-project-image-caption-generator-cnn/"
   ]
  },
  {
   "cell_type": "code",
   "execution_count": 1,
   "id": "07ef34a7-a9d2-4c55-977a-1f92b59e47c6",
   "metadata": {
    "tags": []
   },
   "outputs": [
    {
     "ename": "ModuleNotFoundError",
     "evalue": "No module named 'keras'",
     "output_type": "error",
     "traceback": [
      "\u001b[0;31m---------------------------------------------------------------------------\u001b[0m",
      "\u001b[0;31mModuleNotFoundError\u001b[0m                       Traceback (most recent call last)",
      "Cell \u001b[0;32mIn[1], line 8\u001b[0m\n\u001b[1;32m      6\u001b[0m \u001b[38;5;28;01mfrom\u001b[39;00m \u001b[38;5;21;01mpickle\u001b[39;00m \u001b[38;5;28;01mimport\u001b[39;00m dump, load\n\u001b[1;32m      7\u001b[0m \u001b[38;5;28;01mimport\u001b[39;00m \u001b[38;5;21;01mnumpy\u001b[39;00m \u001b[38;5;28;01mas\u001b[39;00m \u001b[38;5;21;01mnp\u001b[39;00m\n\u001b[0;32m----> 8\u001b[0m \u001b[38;5;28;01mfrom\u001b[39;00m \u001b[38;5;21;01mkeras\u001b[39;00m\u001b[38;5;21;01m.\u001b[39;00m\u001b[38;5;21;01mapplications\u001b[39;00m\u001b[38;5;21;01m.\u001b[39;00m\u001b[38;5;21;01mxception\u001b[39;00m \u001b[38;5;28;01mimport\u001b[39;00m Xception, preprocess_input\n\u001b[1;32m      9\u001b[0m \u001b[38;5;28;01mfrom\u001b[39;00m \u001b[38;5;21;01mtensorflow\u001b[39;00m\u001b[38;5;21;01m.\u001b[39;00m\u001b[38;5;21;01mkeras\u001b[39;00m\u001b[38;5;21;01m.\u001b[39;00m\u001b[38;5;21;01mutils\u001b[39;00m \u001b[38;5;28;01mimport\u001b[39;00m load_img, img_to_array, pad_sequences\n\u001b[1;32m     10\u001b[0m \u001b[38;5;66;03m#from keras.preprocessing.image import load_img, img_to_array\u001b[39;00m\n",
      "\u001b[0;31mModuleNotFoundError\u001b[0m: No module named 'keras'"
     ]
    }
   ],
   "source": [
    "#imports \n",
    "import string\n",
    "import numpy as np\n",
    "from PIL import Image\n",
    "import os\n",
    "from pickle import dump, load\n",
    "import numpy as np\n",
    "from keras.applications.xception import Xception, preprocess_input\n",
    "from tensorflow.keras.utils import load_img, img_to_array, pad_sequences\n",
    "#from keras.preprocessing.image import load_img, img_to_array\n",
    "from keras.preprocessing.text import Tokenizer\n",
    "#from keras.preprocessing.sequence import \n",
    "from keras.utils import to_categorical\n",
    "from keras.layers import add\n",
    "from keras.models import Model, load_model\n",
    "from keras.layers import Input, Dense, LSTM, Embedding, Dropout\n",
    "# small library for seeing the progress of loops.\n",
    "from tqdm import tqdm_notebook as tqdm\n",
    "tqdm().pandas()"
   ]
  },
  {
   "cell_type": "code",
   "execution_count": 2,
   "id": "4d50995a-1a3c-43f5-b8ad-9849f66ba383",
   "metadata": {
    "tags": []
   },
   "outputs": [],
   "source": [
    "\n",
    "# get all imgs with their captions\n",
    "def all_img_captions(S3file):\n",
    "    file = S3file.read()\n",
    "    file = file.decode()\n",
    "    captions = file.split('\\n')\n",
    "    descriptions ={}\n",
    "    for caption in captions[:-1]:\n",
    "        img, caption = caption.split('\\t')\n",
    "        if img[:-2] not in descriptions:\n",
    "            descriptions[img[:-2]] = [ caption ]\n",
    "        else:\n",
    "            descriptions[img[:-2]].append(caption)\n",
    "    return descriptions\n",
    "#Data cleaning- lower casing, removing puntuations and words containing numbers\n",
    "def cleaning_text(captions):\n",
    "    table = str.maketrans('','',string.punctuation)\n",
    "    for img,caps in captions.items():\n",
    "        for i,img_caption in enumerate(caps):\n",
    "            img_caption.replace(\"-\",\" \")\n",
    "            desc = img_caption.split()\n",
    "            #converts to lowercase\n",
    "            desc = [word.lower() for word in desc]\n",
    "            #remove punctuation from each token\n",
    "            desc = [word.translate(table) for word in desc]\n",
    "            #remove hanging 's and a \n",
    "            desc = [word for word in desc if(len(word)>1)]\n",
    "            #remove tokens with numbers in them\n",
    "            desc = [word for word in desc if(word.isalpha())]\n",
    "            #convert back to string\n",
    "            img_caption = ' '.join(desc)\n",
    "            captions[img][i]= img_caption\n",
    "    return captions\n",
    "def text_vocabulary(descriptions):\n",
    "    # build vocabulary of all unique words\n",
    "    vocab = set()\n",
    "    for key in descriptions.keys():\n",
    "        [vocab.update(d.split()) for d in descriptions[key]]\n",
    "    return vocab\n",
    "#Join all descriptions in one file \n",
    "def join_descriptions(descriptions):\n",
    "    lines = list()\n",
    "    for key, desc_list in descriptions.items():\n",
    "        for desc in desc_list:\n",
    "            lines.append(key + '\\t' + desc )\n",
    "    data = \"\\n\".join(lines)\n",
    "    return data\n"
   ]
  },
  {
   "cell_type": "code",
   "execution_count": 16,
   "id": "b87eff5e-2136-4d04-8005-09c81a95a752",
   "metadata": {},
   "outputs": [
    {
     "name": "stdout",
     "output_type": "stream",
     "text": [
      "These are the buckets\n",
      " lvancauwe\n"
     ]
    }
   ],
   "source": [
    "import boto3\n",
    "def list_buckets():\n",
    "    s3_client = boto3.client('s3', \n",
    "                             #endpoint_url = \"https://s3.amazonaws.com\",\n",
    "                             region_name = \"eu-west-3\"\n",
    "                            )\n",
    "    # parameters = s3_client.describe_parameters()['Parameters']\n",
    "    # print(parameters)\n",
    "    response = s3_client.list_buckets()\n",
    "    print(\"These are the buckets\")\n",
    "    for b in response[\"Buckets\"]:\n",
    "        print(f' {b[\"Name\"]}')\n",
    "\n",
    "list_buckets()"
   ]
  },
  {
   "cell_type": "code",
   "execution_count": 19,
   "id": "860a714f-8367-44fa-8221-2754a79bd20e",
   "metadata": {
    "tags": []
   },
   "outputs": [
    {
     "name": "stdout",
     "output_type": "stream",
     "text": [
      "lvancauwe/image_caption_generator/Flickr8k.token.txt\n"
     ]
    }
   ],
   "source": [
    "# read in data\n",
    "\n",
    "import os\n",
    "import s3fs\n",
    "\n",
    "AWS_S3_ENDPOINT = \"s3.amazonaws.com\"\n",
    "# Create filesystem object\n",
    "S3_ENDPOINT_URL = \"https://\" + AWS_S3_ENDPOINT\n",
    "fs = s3fs.S3FileSystem(client_kwargs={\n",
    "    #'endpoint_url': S3_ENDPOINT_URL, \n",
    "    'region_name': \"eu-west-3\"})\n",
    "\n",
    "BUCKET = \"lvancauwe\"\n",
    "FILE_KEY_S3 = \"image_caption_generator/Flickr8k.token.txt\"\n",
    "FILE_PATH_S3 = BUCKET + \"/\" + FILE_KEY_S3\n",
    "print(FILE_PATH_S3)\n",
    "with fs.open(FILE_PATH_S3, mode=\"rb\") as file_in:\n",
    "    descriptions = file_in.read().decode()\n"
   ]
  },
  {
   "cell_type": "code",
   "execution_count": 20,
   "id": "26b0fe6a-6225-4f91-8077-940943c57276",
   "metadata": {
    "tags": []
   },
   "outputs": [],
   "source": [
    "BUCKET = \"lvancauwe\"\n",
    "FILE_KEY_S3 = \"image_caption_generator/Flickr8k.token.txt\"\n",
    "FILE_PATH_S3 = BUCKET + \"/\" + FILE_KEY_S3\n",
    "\n",
    "with fs.open(FILE_PATH_S3, mode=\"rb\") as file_in:\n",
    "    descriptions = all_img_captions(file_in)"
   ]
  },
  {
   "cell_type": "code",
   "execution_count": 21,
   "id": "f4684a16-053f-441b-82b5-94a8cf5e04c5",
   "metadata": {
    "tags": []
   },
   "outputs": [
    {
     "name": "stdout",
     "output_type": "stream",
     "text": [
      "Length of descriptions = 8092\n",
      "Length of vocabulary =  8763\n"
     ]
    }
   ],
   "source": [
    "print(\"Length of descriptions =\" ,len(descriptions))\n",
    "#cleaning the descriptions\n",
    "clean_descriptions = cleaning_text(descriptions)\n",
    "#building vocabulary \n",
    "vocabulary = text_vocabulary(clean_descriptions)\n",
    "print(\"Length of vocabulary = \", len(vocabulary))\n",
    "all_descriptions = join_descriptions(clean_descriptions)"
   ]
  },
  {
   "cell_type": "code",
   "execution_count": 31,
   "id": "095d74aa-3557-49ba-90d2-7a794bda5c60",
   "metadata": {
    "tags": []
   },
   "outputs": [],
   "source": [
    "BUCKET_OUT = \"lvancauwe\"\n",
    "FILE_KEY_OUT_S3 = \"image_caption_generator/descriptions.txt\"\n",
    "#with * gives no error and creates new bucket : FILE_PATH_OUT_S3 = BUCKET_OUT + \"/*\" + FILE_KEY_OUT_S3\n",
    "#but also works without * and puts it in the existing bucket\n",
    "FILE_PATH_OUT_S3 = BUCKET_OUT + \"/\" + FILE_KEY_OUT_S3\n",
    "\n",
    "with fs.open(FILE_PATH_OUT_S3, 'w') as file_out:\n",
    "    file_out.write(all_descriptions)\n"
   ]
  },
  {
   "cell_type": "code",
   "execution_count": null,
   "id": "a429358b-a284-4c95-87f6-463dbc801a81",
   "metadata": {},
   "outputs": [],
   "source": [
    "# For testing GPU usage \n",
    "# def extract_features(directory):\n",
    "#         model = Xception( include_top=False, pooling='avg' )\n",
    "#         features = {}\n",
    "#         for img in tqdm(os.listdir(directory)):\n",
    "#             filename = directory + \"/\" + img\n",
    "#             image = Image.open(filename)\n",
    "#             image = image.resize((299,299))\n",
    "#             image = np.expand_dims(image, axis=0)\n",
    "#             #image = preprocess_input(image)\n",
    "#             image = image/127.5\n",
    "#             image = image - 1.0\n",
    "#             feature = model.predict(image)\n",
    "#             features[img] = feature\n",
    "#         return features\n",
    "# #2048 feature vector\n",
    "# features = extract_features(dataset_images)\n",
    "# dump(features, open(\"features.p\",\"wb\"))"
   ]
  },
  {
   "cell_type": "code",
   "execution_count": 39,
   "id": "90ac6681-5327-4df6-940c-550ac01bab74",
   "metadata": {
    "tags": []
   },
   "outputs": [],
   "source": [
    "#load the data \n",
    "def load_photos(file):\n",
    "    photos = file.split(\"\\n\")[:-1]\n",
    "    return photos\n",
    "def load_clean_descriptions(all_descriptions, photos): \n",
    "    #loading clean_descriptions\n",
    "    descriptions = {}\n",
    "    for line in all_descriptions.split(\"\\n\"):\n",
    "        words = line.split()\n",
    "        if len(words)<1 :\n",
    "            continue\n",
    "        image, image_caption = words[0], words[1:]\n",
    "        if image in photos:\n",
    "            if image not in descriptions:\n",
    "                descriptions[image] = []\n",
    "            desc = '<start> ' + \" \".join(image_caption) + ' <end>'\n",
    "            descriptions[image].append(desc)\n",
    "    return descriptions\n",
    "def load_features(photos):\n",
    "    #loading all features\n",
    "    all_features = load(open(\"features.p\",\"rb\"))\n",
    "    #selecting only needed features\n",
    "    features = {k:all_features[k] for k in photos}\n",
    "    return features"
   ]
  },
  {
   "cell_type": "code",
   "execution_count": 40,
   "id": "9a89ef77-2534-4365-a3a0-a24653799103",
   "metadata": {
    "tags": []
   },
   "outputs": [],
   "source": [
    "# load photos\n",
    "FILE_KEY_S3 = \"image_caption_generator/Flickr_8k.trainImages.txt\"\n",
    "FILE_PATH_S3 = BUCKET + \"/\" + FILE_KEY_S3\n",
    "\n",
    "with fs.open(FILE_PATH_S3, mode=\"rb\") as file_in:\n",
    "    train_imgs = load_photos(file_in.read().decode())\n",
    "    \n",
    "train_descriptions = load_clean_descriptions(all_descriptions, train_imgs)"
   ]
  },
  {
   "cell_type": "code",
   "execution_count": 45,
   "id": "b2df99c8-acfb-496d-bdef-40434b8b385c",
   "metadata": {
    "tags": []
   },
   "outputs": [],
   "source": [
    "# load features\n",
    "import pickle\n",
    "FILE_KEY_S3 = \"image_caption_generator/features.p\"\n",
    "FILE_PATH_S3 = BUCKET + \"/\" + FILE_KEY_S3\n",
    "\n",
    "with fs.open(FILE_PATH_S3, mode=\"rb\") as file_in:\n",
    "    all_features = pickle.loads(file_in.read())\n",
    "    \n",
    "photos = train_imgs\n",
    "train_features = {k:all_features[k] for k in photos}\n"
   ]
  },
  {
   "cell_type": "code",
   "execution_count": 57,
   "id": "e5834715-1cd8-44e9-81ad-3725793163f2",
   "metadata": {
    "tags": []
   },
   "outputs": [],
   "source": [
    "#converting dictionary to clean list of descriptions\n",
    "def dict_to_list(descriptions):\n",
    "    all_desc = []\n",
    "    for key in descriptions.keys():\n",
    "        [all_desc.append(d) for d in descriptions[key]]\n",
    "    return all_desc\n",
    "#creating tokenizer class \n",
    "#this will vectorise text corpus\n",
    "#each integer will represent token in dictionary\n",
    "from keras.preprocessing.text import Tokenizer\n",
    "def create_tokenizer(descriptions):\n",
    "    desc_list = dict_to_list(descriptions)\n",
    "    tokenizer = Tokenizer()\n",
    "    tokenizer.fit_on_texts(desc_list)\n",
    "    return tokenizer\n",
    "# give each word an index, and store that into tokenizer.p pickle file\n",
    "tokenizer = create_tokenizer(train_descriptions)\n",
    "vocab_size = len(tokenizer.word_index) + 1"
   ]
  },
  {
   "cell_type": "code",
   "execution_count": 51,
   "id": "1cbcff0a-ee15-47aa-8be9-344007ed271b",
   "metadata": {
    "tags": []
   },
   "outputs": [],
   "source": [
    "# load tokenized vocab\n",
    "# FILE_KEY_S3 = \"image_caption_generator/tokenizer.p\"\n",
    "# FILE_PATH_S3 = BUCKET + \"/\" + FILE_KEY_S3\n",
    "\n",
    "# with fs.open(FILE_PATH_S3, mode=\"rb\") as file_in:\n",
    "#     tokenizer = pickle.loads(file_in.read())\n",
    "    "
   ]
  },
  {
   "cell_type": "code",
   "execution_count": 52,
   "id": "5c7d6102-0a41-4a7f-8c70-5ad783e171a0",
   "metadata": {
    "tags": []
   },
   "outputs": [],
   "source": [
    "#create input-output sequence pairs from the image description.\n",
    "#data generator, used by model.fit_generator()\n",
    "def data_generator(descriptions, features, tokenizer, max_length):\n",
    "    while 1:\n",
    "        for key, description_list in descriptions.items():\n",
    "            #retrieve photo features\n",
    "            feature = features[key][0]\n",
    "            input_image, input_sequence, output_word = create_sequences(tokenizer, max_length, description_list, feature)\n",
    "            yield [[input_image, input_sequence], output_word]\n",
    "def create_sequences(tokenizer, max_length, desc_list, feature):\n",
    "    X1, X2, y = list(), list(), list()\n",
    "    # walk through each description for the image\n",
    "    for desc in desc_list:\n",
    "        # encode the sequence\n",
    "        seq = tokenizer.texts_to_sequences([desc])[0]\n",
    "        # split one sequence into multiple X,y pairs\n",
    "        for i in range(1, len(seq)):\n",
    "            # split into input and output pair\n",
    "            in_seq, out_seq = seq[:i], seq[i]\n",
    "            # pad input sequence\n",
    "            in_seq = pad_sequences([in_seq], maxlen=max_length)[0]\n",
    "            # encode output sequence\n",
    "            out_seq = to_categorical([out_seq], num_classes=vocab_size)[0]\n",
    "            # store\n",
    "            X1.append(feature)\n",
    "            X2.append(in_seq)\n",
    "            y.append(out_seq)\n",
    "    return np.array(X1), np.array(X2), np.array(y)\n"
   ]
  },
  {
   "cell_type": "code",
   "execution_count": 58,
   "id": "c280a76a-91ed-4a08-bf9d-04c56792f249",
   "metadata": {
    "tags": []
   },
   "outputs": [],
   "source": [
    "#You can check the shape of the input and output for your model\n",
    "max_length = 32\n",
    "[a,b],c = next(data_generator(train_descriptions, train_features, tokenizer, max_length))"
   ]
  },
  {
   "cell_type": "code",
   "execution_count": 59,
   "id": "ee415215-96af-4ca6-af87-91a3b85a8b77",
   "metadata": {
    "tags": []
   },
   "outputs": [
    {
     "name": "stdout",
     "output_type": "stream",
     "text": [
      "(47, 2048) (47, 32) (47, 7577)\n"
     ]
    }
   ],
   "source": [
    "#sanity check\n",
    "print(a.shape, b.shape, c.shape)"
   ]
  },
  {
   "cell_type": "code",
   "execution_count": 60,
   "id": "65b1b124-2acd-4e48-9076-d652c8df5ae3",
   "metadata": {
    "tags": []
   },
   "outputs": [],
   "source": [
    "from keras.utils import plot_model\n",
    "# define the captioning model\n",
    "def define_model(vocab_size, max_length):\n",
    "    # features from the CNN model squeezed from 2048 to 256 nodes\n",
    "    inputs1 = Input(shape=(2048,))\n",
    "    fe1 = Dropout(0.5)(inputs1)\n",
    "    fe2 = Dense(256, activation='relu')(fe1)\n",
    "    # LSTM sequence model\n",
    "    inputs2 = Input(shape=(max_length,))\n",
    "    se1 = Embedding(vocab_size, 256, mask_zero=True)(inputs2)\n",
    "    se2 = Dropout(0.5)(se1)\n",
    "    se3 = LSTM(256)(se2)\n",
    "    # Merging both models\n",
    "    decoder1 = add([fe2, se3])\n",
    "    decoder2 = Dense(256, activation='relu')(decoder1)\n",
    "    outputs = Dense(vocab_size, activation='softmax')(decoder2)\n",
    "    # tie it together [image, seq] [word]\n",
    "    model = Model(inputs=[inputs1, inputs2], outputs=outputs)\n",
    "    model.compile(loss='categorical_crossentropy', optimizer='adam')\n",
    "    # summarize model\n",
    "    print(model.summary())\n",
    "    plot_model(model, to_file='model.png', show_shapes=True)\n",
    "    return model"
   ]
  },
  {
   "cell_type": "code",
   "execution_count": null,
   "id": "12f31e17-7ecf-4629-addd-2954dcd40a1f",
   "metadata": {},
   "outputs": [],
   "source": [
    "# train our model\n",
    "# print('Dataset: ', len(train_imgs))\n",
    "# print('Descriptions: train=', len(train_descriptions))\n",
    "# print('Photos: train=', len(train_features))\n",
    "# print('Vocabulary Size:', vocab_size)\n",
    "# print('Description Length: ', max_length)\n",
    "model = define_model(vocab_size, max_length)\n",
    "epochs = 10\n",
    "steps = len(train_descriptions)\n",
    "\n",
    "# making a directory models to save our models\n",
    "BUCKET_OUT = \"lvancauwe\"\n",
    "FILE_KEY_OUT_S3 = \"image_caption_generator/models/\"\n",
    "#with * gives no error and creates new bucket : FILE_PATH_OUT_S3 = BUCKET_OUT + \"/*\" + FILE_KEY_OUT_S3\n",
    "#but also works without * and puts it in the existing bucket\n",
    "FILE_PATH_OUT_S3 = BUCKET_OUT + \"/*\" + FILE_KEY_OUT_S3\n",
    "\n",
    "for i in range(epochs):\n",
    "    generator = data_generator(train_descriptions, train_features, tokenizer, max_length)\n",
    "    model.fit_generator(generator, epochs=1, steps_per_epoch= steps, verbose=1)\n",
    "    with fs.open(FILE_PATH_OUT_S3+ \"model_\" + str(i) + \".h5\", 'w') as file_out:\n",
    "        file_out.save(model)\n"
   ]
  }
 ],
 "metadata": {
  "kernelspec": {
   "display_name": "Python 3 (ipykernel)",
   "language": "python",
   "name": "python3"
  },
  "language_info": {
   "codemirror_mode": {
    "name": "ipython",
    "version": 3
   },
   "file_extension": ".py",
   "mimetype": "text/x-python",
   "name": "python",
   "nbconvert_exporter": "python",
   "pygments_lexer": "ipython3",
   "version": "3.11.4"
  }
 },
 "nbformat": 4,
 "nbformat_minor": 5
}
