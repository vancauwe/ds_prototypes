{
 "cells": [
  {
   "cell_type": "code",
   "execution_count": 9,
   "id": "07ef34a7-a9d2-4c55-977a-1f92b59e47c6",
   "metadata": {
    "tags": []
   },
   "outputs": [
    {
     "name": "stderr",
     "output_type": "stream",
     "text": [
      "/tmp/ipykernel_131/2692966055.py:19: TqdmDeprecationWarning: This function will be removed in tqdm==5.0.0\n",
      "Please use `tqdm.notebook.tqdm` instead of `tqdm.tqdm_notebook`\n",
      "  tqdm().pandas()\n"
     ]
    },
    {
     "data": {
      "application/vnd.jupyter.widget-view+json": {
       "model_id": "b77531c4dfb14d7a80ddd012e175397e",
       "version_major": 2,
       "version_minor": 0
      },
      "text/plain": [
       "0it [00:00, ?it/s]"
      ]
     },
     "metadata": {},
     "output_type": "display_data"
    }
   ],
   "source": [
    "#imports \n",
    "import string\n",
    "import numpy as np\n",
    "from PIL import Image\n",
    "import os\n",
    "from pickle import dump, load\n",
    "import numpy as np\n",
    "from keras.applications.xception import Xception, preprocess_input\n",
    "from tensorflow.keras.utils import load_img, img_to_array, pad_sequences\n",
    "#from keras.preprocessing.image import load_img, img_to_array\n",
    "from keras.preprocessing.text import Tokenizer\n",
    "#from keras.preprocessing.sequence import \n",
    "from keras.utils import to_categorical\n",
    "from keras.layers import add\n",
    "from keras.models import Model, load_model\n",
    "from keras.layers import Input, Dense, LSTM, Embedding, Dropout\n",
    "# small library for seeing the progress of loops.\n",
    "from tqdm import tqdm_notebook as tqdm\n",
    "tqdm().pandas()"
   ]
  },
  {
   "cell_type": "code",
   "execution_count": 25,
   "id": "4d50995a-1a3c-43f5-b8ad-9849f66ba383",
   "metadata": {
    "tags": []
   },
   "outputs": [],
   "source": [
    "\n",
    "# get all imgs with their captions\n",
    "def all_img_captions(S3file):\n",
    "    file = S3file.read()\n",
    "    file = file.decode()\n",
    "    captions = file.split('\\n')\n",
    "    descriptions ={}\n",
    "    for caption in captions[:-1]:\n",
    "        img, caption = caption.split('\\t')\n",
    "        if img[:-2] not in descriptions:\n",
    "            descriptions[img[:-2]] = [ caption ]\n",
    "        else:\n",
    "            descriptions[img[:-2]].append(caption)\n",
    "    return descriptions\n",
    "#Data cleaning- lower casing, removing puntuations and words containing numbers\n",
    "def cleaning_text(captions):\n",
    "    table = str.maketrans('','',string.punctuation)\n",
    "    for img,caps in captions.items():\n",
    "        for i,img_caption in enumerate(caps):\n",
    "            img_caption.replace(\"-\",\" \")\n",
    "            desc = img_caption.split()\n",
    "            #converts to lowercase\n",
    "            desc = [word.lower() for word in desc]\n",
    "            #remove punctuation from each token\n",
    "            desc = [word.translate(table) for word in desc]\n",
    "            #remove hanging 's and a \n",
    "            desc = [word for word in desc if(len(word)>1)]\n",
    "            #remove tokens with numbers in them\n",
    "            desc = [word for word in desc if(word.isalpha())]\n",
    "            #convert back to string\n",
    "            img_caption = ' '.join(desc)\n",
    "            captions[img][i]= img_caption\n",
    "    return captions\n",
    "def text_vocabulary(descriptions):\n",
    "    # build vocabulary of all unique words\n",
    "    vocab = set()\n",
    "    for key in descriptions.keys():\n",
    "        [vocab.update(d.split()) for d in descriptions[key]]\n",
    "    return vocab\n",
    "#Join all descriptions in one file \n",
    "def join_descriptions(descriptions):\n",
    "    lines = list()\n",
    "    for key, desc_list in descriptions.items():\n",
    "        for desc in desc_list:\n",
    "            lines.append(key + '\\t' + desc )\n",
    "    data = \"\\n\".join(lines)\n",
    "    return data\n"
   ]
  },
  {
   "cell_type": "code",
   "execution_count": 15,
   "id": "860a714f-8367-44fa-8221-2754a79bd20e",
   "metadata": {
    "tags": []
   },
   "outputs": [],
   "source": [
    "# read in data\n",
    "\n",
    "import os\n",
    "import s3fs\n",
    "\n",
    "# Create filesystem object\n",
    "S3_ENDPOINT_URL = \"https://\" + os.environ[\"AWS_S3_ENDPOINT\"]\n",
    "fs = s3fs.S3FileSystem(client_kwargs={'endpoint_url': S3_ENDPOINT_URL})\n"
   ]
  },
  {
   "cell_type": "code",
   "execution_count": 22,
   "id": "26b0fe6a-6225-4f91-8077-940943c57276",
   "metadata": {
    "tags": []
   },
   "outputs": [],
   "source": [
    "BUCKET = \"lvancauwe\"\n",
    "FILE_KEY_S3 = \"image_caption_generator/Flickr8k.token.txt\"\n",
    "FILE_PATH_S3 = BUCKET + \"/\" + FILE_KEY_S3\n",
    "\n",
    "with fs.open(FILE_PATH_S3, mode=\"rb\") as file_in:\n",
    "    descriptions = all_img_captions(file_in)"
   ]
  },
  {
   "cell_type": "code",
   "execution_count": 26,
   "id": "f4684a16-053f-441b-82b5-94a8cf5e04c5",
   "metadata": {},
   "outputs": [
    {
     "name": "stdout",
     "output_type": "stream",
     "text": [
      "Length of descriptions = 8092\n",
      "Length of vocabulary =  8763\n"
     ]
    }
   ],
   "source": [
    "print(\"Length of descriptions =\" ,len(descriptions))\n",
    "#cleaning the descriptions\n",
    "clean_descriptions = cleaning_text(descriptions)\n",
    "#building vocabulary \n",
    "vocabulary = text_vocabulary(clean_descriptions)\n",
    "print(\"Length of vocabulary = \", len(vocabulary))\n",
    "all_descriptions = join_descriptions(clean_descriptions)"
   ]
  },
  {
   "cell_type": "code",
   "execution_count": 31,
   "id": "095d74aa-3557-49ba-90d2-7a794bda5c60",
   "metadata": {
    "tags": []
   },
   "outputs": [],
   "source": [
    "BUCKET_OUT = \"lvancauwe\"\n",
    "FILE_KEY_OUT_S3 = \"image_caption_generator/descriptions.txt\"\n",
    "FILE_PATH_OUT_S3 = BUCKET_OUT + \"/*\" + FILE_KEY_OUT_S3\n",
    "\n",
    "with fs.open(FILE_PATH_OUT_S3, 'w') as file_out:\n",
    "    file_out.write(all_descriptions)\n"
   ]
  },
  {
   "cell_type": "code",
   "execution_count": null,
   "id": "a429358b-a284-4c95-87f6-463dbc801a81",
   "metadata": {},
   "outputs": [],
   "source": [
    "# For testing GPU usage \n",
    "# def extract_features(directory):\n",
    "#         model = Xception( include_top=False, pooling='avg' )\n",
    "#         features = {}\n",
    "#         for img in tqdm(os.listdir(directory)):\n",
    "#             filename = directory + \"/\" + img\n",
    "#             image = Image.open(filename)\n",
    "#             image = image.resize((299,299))\n",
    "#             image = np.expand_dims(image, axis=0)\n",
    "#             #image = preprocess_input(image)\n",
    "#             image = image/127.5\n",
    "#             image = image - 1.0\n",
    "#             feature = model.predict(image)\n",
    "#             features[img] = feature\n",
    "#         return features\n",
    "# #2048 feature vector\n",
    "# features = extract_features(dataset_images)\n",
    "# dump(features, open(\"features.p\",\"wb\"))"
   ]
  },
  {
   "cell_type": "code",
   "execution_count": null,
   "id": "90ac6681-5327-4df6-940c-550ac01bab74",
   "metadata": {},
   "outputs": [],
   "source": []
  }
 ],
 "metadata": {
  "kernelspec": {
   "display_name": "Python 3 (ipykernel)",
   "language": "python",
   "name": "python3"
  },
  "language_info": {
   "codemirror_mode": {
    "name": "ipython",
    "version": 3
   },
   "file_extension": ".py",
   "mimetype": "text/x-python",
   "name": "python",
   "nbconvert_exporter": "python",
   "pygments_lexer": "ipython3",
   "version": "3.10.9"
  }
 },
 "nbformat": 4,
 "nbformat_minor": 5
}
